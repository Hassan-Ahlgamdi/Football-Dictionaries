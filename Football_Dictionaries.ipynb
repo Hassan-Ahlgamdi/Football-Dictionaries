{
  "metadata": {
    "kernelspec": {
      "name": "python",
      "display_name": "Python (Pyodide)",
      "language": "python"
    },
    "language_info": {
      "codemirror_mode": {
        "name": "python",
        "version": 3
      },
      "file_extension": ".py",
      "mimetype": "text/x-python",
      "name": "python",
      "nbconvert_exporter": "python",
      "pygments_lexer": "ipython3",
      "version": "3.8"
    }
  },
  "nbformat_minor": 5,
  "nbformat": 4,
  "cells": [
    {
      "id": "e83ff885-a5c3-4e00-93c3-b04fe9126d0f",
      "cell_type": "code",
      "source": "SQUADS_DATA = [\n  [\n    \"1\",\n    \"GK\",\n    \"Juan Botasso\",\n    \"(1908-10-23)23 October 1908 (aged 21)\",\n    \"\",\n    \"Quilmes\",\n    \"Argentina\",\n    \"Argentina\",\n    \"1930\"\n  ],\n  [\n    \"9\",\n    \"FW\",\n    \"Roberto Cherro\",\n    \"(1907-02-23)23 February 1907 (aged 23)\",\n    \"\",\n    \"Boca Juniors\",\n    \"Argentina\",\n    \"Argentina\",\n    \"1930\"\n  ],\n  [\n    \"-\",\n    \"MF\",\n    \"Pierre Braine\",\n    \"(1900-10-26)26 October 1900 (aged 29)\",\n    \"42\",\n    \"Royal Beerschot AC\",\n    \"Belgium\",\n    \"Belgium\",\n    \"1930\"\n  ],\n  [\n    \"-\",\n    \"MF\",\n    \"Alexis Chantraine\",\n    \"(1901-03-16)16 March 1901 (aged 29)\",\n    \"0\",\n    \"Royal FC Liegeois\",\n    \"Belgium\",\n    \"Belgium\",\n    \"1930\"\n  ],\n  [\n    \"-\",\n    \"GK\",\n    \"Jean De Bie\",\n    \"(1892-05-09)9 May 1892 (aged 38)\",\n    \"37\",\n    \"Royal Racing Club de Bruxelles\",\n    \"Belgium\",\n    \"Belgium\",\n    \"1930\"\n  ],\n  [\n    \"-\",\n    \"MF\",\n    \"Oscar\",\n    \"(1991-09-09)9 September 1991 (aged 22)\",\n    \"29\",\n    \"Chelsea\",\n    \"Brazil\",\n    \"England\",\n    \"2010\"\n  ],\n  [\n    \"-\",\n    \"MF\",\n    \"Paulinho\",\n    \"(1988-07-25)25 July 1988 (aged 25)\",\n    \"25\",\n    \"Tottenham Hotspur\",\n    \"Brazil\",\n    \"England\",\n    \"2010\"\n  ],\n  [\n    \"-\",\n    \"MF\",\n    \"Hernanes\",\n    \"(1985-05-29)29 May 1985 (aged 29)\",\n    \"23\",\n    \"Internazionale\",\n    \"Brazil\",\n    \"Italy\",\n    \"2014\"\n  ],\n  [\n    \"-\",\n    \"MF\",\n    \"Luiz Gustavo\",\n    \"(1987-07-23)23 July 1987 (aged 26)\",\n    \"17\",\n    \"VfL Wolfsburg\",\n    \"Brazil\",\n    \"Germany\",\n    \"2014\"\n  ],\n  [\n    \"-\",\n    \"MF\",\n    \"Fernandinho\",\n    \"(1985-05-04)4 May 1985 (aged 29)\",\n    \"6\",\n    \"Manchester City\",\n    \"Brazil\",\n    \"England\",\n    \"2014\"\n  ],\n  [\n    \"-\",\n    \"MF\",\n    \"Willian\",\n    \"(1988-08-09)9 August 1988 (aged 25)\",\n    \"5\",\n    \"Chelsea\",\n    \"Brazil\",\n    \"England\",\n    \"2014\"\n  ],\n  [\n    \"-\",\n    \"FW\",\n    \"Lee Keun-Ho\",\n    \"(1985-04-11)11 April 1985 (aged 29)\",\n    \"62\",\n    \"Sangju Sangmu\",\n    \"South Korea\",\n    \"South Korea\",\n    \"2014\"\n  ],\n  [\n    \"-\",\n    \"FW\",\n    \"Koo Ja-Cheol\",\n    \"(1989-02-27)27 February 1989 (aged 25)\",\n    \"35\",\n    \"Mainz 05\",\n    \"South Korea\",\n    \"Germany\",\n    \"2014\"\n  ],\n  [\n    \"-\",\n    \"FW\",\n    \"Kim Shin-Wook\",\n    \"(1988-04-14)14 April 1988 (aged 26)\",\n    \"26\",\n    \"Ulsan Hyundai\",\n    \"South Korea\",\n    \"South Korea\",\n    \"2014\"\n  ]\n]",
      "metadata": {
        "trusted": true
      },
      "outputs": [],
      "execution_count": 1
    },
    {
      "id": "6938d744-ff66-48ff-91b4-f412336b5af9",
      "cell_type": "code",
      "source": "def players_as_dictionaries(a_list): \n    \n    ''' \n    this function will take a list of lists as a parameter and will return a list of dict \n    the list structure is as follows:\n    SQUADS_DATA = [\n  [\n    \"1\",                                     # Number\n    \"GK\",                                    # Position\n    \"Juan Botasso\",                          # Name\n    \"(1908-10-23)23 October 1908 (aged 21)\", # Date of Birth\n    \"\",                                      # Caps\n    \"Quilmes\",                               # Club\n    \"Argentina\",                             # Country (Players Country)\n    \"Argentina\",                             # Club Country\n    \"1930\"                                   # Year\n  ],\n    '''\n    List_of_dict = []\n    for player in a_list : \n        D = {\n            'number' : player[0],\n            'position' : player[1],\n            'name' : player[2], \n            'date_of_birth' : player[3],\n            'caps' : player[4],\n            'club' : player[5],\n            'country' : player[6], \n            'club_country' : player[7], \n            'year': player[8]\n        }\n        List_of_dict.append(D)\n    return List_of_dict",
      "metadata": {
        "trusted": true
      },
      "outputs": [],
      "execution_count": 10
    },
    {
      "id": "ea81482c-e4ac-43b1-9354-a057a3b3d34a",
      "cell_type": "code",
      "source": "def players_by_position(players): \n    new_D = {}\n    for player in players : \n        position = player['position']\n        if position in new_D: \n            new_D[position].append(player)\n        else: \n            new_D[position] = [player]\n    return new_D",
      "metadata": {
        "trusted": true
      },
      "outputs": [],
      "execution_count": 43
    },
    {
      "id": "7b3ebedd-541f-4ac5-b261-135bcd6ed6d5",
      "cell_type": "code",
      "source": "def players_by_country_and_position(players): \n    players_country = {}\n    for position,players in players.items(): \n        for player in players: \n            country = player['country']\n            if country not in players_country : \n                players_country[country] = {}\n            if position not in players_country[country]: \n                players_country[country][position] = []\n            players_country[country][position].append(player)\n    return players_country\n                \n        ",
      "metadata": {
        "trusted": true
      },
      "outputs": [],
      "execution_count": 59
    },
    {
      "id": "972d0acf-08f8-4f29-b6ed-6849c989820c",
      "cell_type": "code",
      "source": "SQUADS_DATA_as_dictionaries = players_as_dictionaries(SQUADS_DATA)",
      "metadata": {
        "trusted": true
      },
      "outputs": [],
      "execution_count": 63
    },
    {
      "id": "ddde1ed6-0d30-437d-9ebe-9749a3ef6941",
      "cell_type": "code",
      "source": "SQUADS_DATA_grouped_by_position = players_by_position(SQUADS_DATA_as_dictionaries)",
      "metadata": {
        "trusted": true
      },
      "outputs": [],
      "execution_count": 64
    },
    {
      "id": "22c7b0d0-a710-4ed3-84ba-52b1a603a56b",
      "cell_type": "code",
      "source": "SQUADS_DATA_grouped_by_position_and_country = players_by_country_and_position(SQUADS_DATA_grouped_by_position)",
      "metadata": {
        "trusted": true
      },
      "outputs": [],
      "execution_count": 65
    },
    {
      "id": "91370095-be01-4055-9e3e-4dd012cb35f9",
      "cell_type": "code",
      "source": "SQUADS_DATA_grouped_by_position_and_country",
      "metadata": {
        "trusted": true
      },
      "outputs": [
        {
          "execution_count": 64,
          "output_type": "execute_result",
          "data": {
            "text/plain": "{'Argentina': {'GK': [{'number': '1',\n    'position': 'GK',\n    'name': 'Juan Botasso',\n    'date_of_birth': '(1908-10-23)23 October 1908 (aged 21)',\n    'caps': '',\n    'club': 'Quilmes',\n    'country': 'Argentina',\n    'club_country': 'Argentina',\n    'year': '1930'}],\n  'FW': [{'number': '9',\n    'position': 'FW',\n    'name': 'Roberto Cherro',\n    'date_of_birth': '(1907-02-23)23 February 1907 (aged 23)',\n    'caps': '',\n    'club': 'Boca Juniors',\n    'country': 'Argentina',\n    'club_country': 'Argentina',\n    'year': '1930'}]},\n 'Belgium': {'GK': [{'number': '-',\n    'position': 'GK',\n    'name': 'Jean De Bie',\n    'date_of_birth': '(1892-05-09)9 May 1892 (aged 38)',\n    'caps': '37',\n    'club': 'Royal Racing Club de Bruxelles',\n    'country': 'Belgium',\n    'club_country': 'Belgium',\n    'year': '1930'}],\n  'MF': [{'number': '-',\n    'position': 'MF',\n    'name': 'Pierre Braine',\n    'date_of_birth': '(1900-10-26)26 October 1900 (aged 29)',\n    'caps': '42',\n    'club': 'Royal Beerschot AC',\n    'country': 'Belgium',\n    'club_country': 'Belgium',\n    'year': '1930'},\n   {'number': '-',\n    'position': 'MF',\n    'name': 'Alexis Chantraine',\n    'date_of_birth': '(1901-03-16)16 March 1901 (aged 29)',\n    'caps': '0',\n    'club': 'Royal FC Liegeois',\n    'country': 'Belgium',\n    'club_country': 'Belgium',\n    'year': '1930'}]},\n 'South Korea': {'FW': [{'number': '-',\n    'position': 'FW',\n    'name': 'Lee Keun-Ho',\n    'date_of_birth': '(1985-04-11)11 April 1985 (aged 29)',\n    'caps': '62',\n    'club': 'Sangju Sangmu',\n    'country': 'South Korea',\n    'club_country': 'South Korea',\n    'year': '2014'},\n   {'number': '-',\n    'position': 'FW',\n    'name': 'Koo Ja-Cheol',\n    'date_of_birth': '(1989-02-27)27 February 1989 (aged 25)',\n    'caps': '35',\n    'club': 'Mainz 05',\n    'country': 'South Korea',\n    'club_country': 'Germany',\n    'year': '2014'},\n   {'number': '-',\n    'position': 'FW',\n    'name': 'Kim Shin-Wook',\n    'date_of_birth': '(1988-04-14)14 April 1988 (aged 26)',\n    'caps': '26',\n    'club': 'Ulsan Hyundai',\n    'country': 'South Korea',\n    'club_country': 'South Korea',\n    'year': '2014'}]},\n 'Brazil': {'MF': [{'number': '-',\n    'position': 'MF',\n    'name': 'Oscar',\n    'date_of_birth': '(1991-09-09)9 September 1991 (aged 22)',\n    'caps': '29',\n    'club': 'Chelsea',\n    'country': 'Brazil',\n    'club_country': 'England',\n    'year': '2010'},\n   {'number': '-',\n    'position': 'MF',\n    'name': 'Paulinho',\n    'date_of_birth': '(1988-07-25)25 July 1988 (aged 25)',\n    'caps': '25',\n    'club': 'Tottenham Hotspur',\n    'country': 'Brazil',\n    'club_country': 'England',\n    'year': '2010'},\n   {'number': '-',\n    'position': 'MF',\n    'name': 'Hernanes',\n    'date_of_birth': '(1985-05-29)29 May 1985 (aged 29)',\n    'caps': '23',\n    'club': 'Internazionale',\n    'country': 'Brazil',\n    'club_country': 'Italy',\n    'year': '2014'},\n   {'number': '-',\n    'position': 'MF',\n    'name': 'Luiz Gustavo',\n    'date_of_birth': '(1987-07-23)23 July 1987 (aged 26)',\n    'caps': '17',\n    'club': 'VfL Wolfsburg',\n    'country': 'Brazil',\n    'club_country': 'Germany',\n    'year': '2014'},\n   {'number': '-',\n    'position': 'MF',\n    'name': 'Fernandinho',\n    'date_of_birth': '(1985-05-04)4 May 1985 (aged 29)',\n    'caps': '6',\n    'club': 'Manchester City',\n    'country': 'Brazil',\n    'club_country': 'England',\n    'year': '2014'},\n   {'number': '-',\n    'position': 'MF',\n    'name': 'Willian',\n    'date_of_birth': '(1988-08-09)9 August 1988 (aged 25)',\n    'caps': '5',\n    'club': 'Chelsea',\n    'country': 'Brazil',\n    'club_country': 'England',\n    'year': '2014'}]}}"
          },
          "metadata": {}
        }
      ],
      "execution_count": 66
    },
    {
      "id": "04a2c76b-22cf-4389-94a4-200971828875",
      "cell_type": "code",
      "source": "",
      "metadata": {
        "trusted": true
      },
      "outputs": [],
      "execution_count": null
    }
  ]
}